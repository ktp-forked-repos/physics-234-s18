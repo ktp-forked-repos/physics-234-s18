{
 "cells": [
  {
   "cell_type": "markdown",
   "metadata": {},
   "source": [
    "# Random Walks"
   ]
  },
  {
   "cell_type": "code",
   "execution_count": 21,
   "metadata": {},
   "outputs": [],
   "source": [
    "import matplotlib.pyplot as plt\n",
    "import numpy as np\n",
    "import random"
   ]
  },
  {
   "cell_type": "markdown",
   "metadata": {},
   "source": [
    "## 1D\n",
    "Start at position 0. Take N steps, moving left or right uniformly at random for each step. The step size is uniformly random between min_step and max_step."
   ]
  },
  {
   "cell_type": "code",
   "execution_count": 28,
   "metadata": {},
   "outputs": [],
   "source": [
    "def random_walk(N):\n",
    "    position = 0\n",
    "    positions = [position]\n",
    "    for j in range(N):\n",
    "        if random.randint(0, 1) == 0:\n",
    "            position += 1\n",
    "        else:\n",
    "            position -= 1\n",
    "\n",
    "        positions.append(position)\n",
    "\n",
    "    return positions\n",
    "\n",
    "def k_random_walks(trials, N):\n",
    "    end_points = list()\n",
    "    for i in range(trials):\n",
    "        trial = random_walk(N)\n",
    "        end_points.append(trial[-1])\n",
    "\n",
    "    plt.hist(end_points, bins=len(set(end_points))*2+1)\n",
    "    plt.show()\n",
    "    return end_points"
   ]
  },
  {
   "cell_type": "markdown",
   "metadata": {},
   "source": [
    "### Fixed Step Length"
   ]
  },
  {
   "cell_type": "code",
   "execution_count": 29,
   "metadata": {
    "scrolled": true
   },
   "outputs": [
    {
     "data": {
      "image/png": "[encoded data removed]",
      "text/plain": [
       "<matplotlib.figure.Figure at 0x10880c518>"
      ]
     },
     "metadata": {},
     "output_type": "display_data"
    },
    {
     "name": "stdout",
     "output_type": "stream",
     "text": [
      "Mean: -0.0342\n",
      "Variance: 9.81061142114\n"
     ]
    }
   ],
   "source": [
    "end_points = k_random_walks(10000, 10)\n",
    "print('Mean:', np.mean(end_points))\n",
    "print('Variance:', np.var(end_points, ddof=1))"
   ]
  },
  {
   "cell_type": "markdown",
   "metadata": {},
   "source": [
    "## Plotting One Walk"
   ]
  },
  {
   "cell_type": "code",
   "execution_count": 24,
   "metadata": {},
   "outputs": [],
   "source": [
    "def plot_walk(positions):\n",
    "    plt.plot(range(len(positions)), positions)\n",
    "    plt.show()"
   ]
  },
  {
   "cell_type": "code",
   "execution_count": 25,
   "metadata": {
    "scrolled": true
   },
   "outputs": [
    {
     "data": {
      "image/png": "[encoded data removed]",
      "text/plain": [
       "<matplotlib.figure.Figure at 0x108d3ce80>"
      ]
     },
     "metadata": {},
     "output_type": "display_data"
    }
   ],
   "source": [
    "plot_walk(random_walk(100))"
   ]
  },
  {
   "cell_type": "markdown",
   "metadata": {},
   "source": [
    "## Statistics"
   ]
  },
  {
   "cell_type": "code",
   "execution_count": 26,
   "metadata": {},
   "outputs": [],
   "source": [
    "def uncertainty(positions):\n",
    "    return (np.var(positions, ddof=1) / len(positions))**0.5"
   ]
  },
  {
   "cell_type": "code",
   "execution_count": null,
   "metadata": {},
   "outputs": [],
   "source": []
  }
 ],
 "metadata": {
  "kernelspec": {
   "display_name": "Python 3",
   "language": "python",
   "name": "python3"
  },
  "language_info": {
   "codemirror_mode": {
    "name": "ipython",
    "version": 3
   },
   "file_extension": ".py",
   "mimetype": "text/x-python",
   "name": "python",
   "nbconvert_exporter": "python",
   "pygments_lexer": "ipython3",
   "version": "3.5.2"
  }
 },
 "nbformat": 4,
 "nbformat_minor": 2
}
